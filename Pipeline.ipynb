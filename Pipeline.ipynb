{
 "cells": [
  {
   "cell_type": "code",
   "execution_count": 1,
   "metadata": {},
   "outputs": [],
   "source": [
    "# Importation de la librarie pymysql\n",
    "import pymysql"
   ]
  },
  {
   "cell_type": "code",
   "execution_count": 2,
   "metadata": {},
   "outputs": [],
   "source": [
    "# Connexion à la base de données\n",
    "connection = pymysql.connect(\n",
    "    host='localhost',\n",
    "    user='root',\n",
    "    database='ecole'\n",
    ")"
   ]
  },
  {
   "cell_type": "markdown",
   "metadata": {},
   "source": [
    "La connexion à la base de données se fait avec la fonction pymysql.connect(). Elle prend des paramètres comme l’hôte (host), l’utilisateur (user), et le nom de la base de données (database). Cette étape est essentielle car elle permet au programme de communiquer avec la base de données pour récupérer ou envoyer des informations. Une fois connecté, on peut exécuter des requêtes SQL pour obtenir les données des tables, comme les élèves et les enseignants dans cet exemple. La connexion est ensuite fermée à la fin pour libérer les ressources."
   ]
  },
  {
   "cell_type": "code",
   "execution_count": 3,
   "metadata": {},
   "outputs": [],
   "source": [
    "# Fonction pour récupérer les données des élèves et des enseignants\n",
    "def fetch_data(cursor):\n",
    "    # Données des élèves\n",
    "    cursor.execute(\"SELECT prenom, nom, numero_classe FROM eleves\")\n",
    "    eleves = cursor.fetchall()\n",
    "\n",
    "    # Données des enseignants\n",
    "    cursor.execute(\"SELECT prenom, nom, numero_classe FROM enseignants\")\n",
    "    enseignants = cursor.fetchall()\n",
    "\n",
    "    return eleves, enseignants\n"
   ]
  },
  {
   "cell_type": "markdown",
   "metadata": {},
   "source": [
    "La fonction fetch_data sert à récupérer toutes les informations des élèves et des enseignants depuis la base de données. Elle envoie deux requêtes : une pour obtenir les élèves et l'autre pour obtenir les enseignants. On a besoin de ces données pour ensuite pouvoir les utiliser dans d'autres parties du programme."
   ]
  },
  {
   "cell_type": "code",
   "execution_count": 4,
   "metadata": {},
   "outputs": [],
   "source": [
    "# Fonction pour associer les élèves aux enseignants par numéro de classe\n",
    "def associate_students_with_teachers(eleves, enseignants):\n",
    "    associations = []\n",
    "    for eleve in eleves:\n",
    "        prenom_eleve, nom_eleve, classe_eleve = eleve\n",
    "        enseignant_trouve = None\n",
    "\n",
    "        for enseignant in enseignants:\n",
    "            prenom_enseignant, nom_enseignant, classe_enseignant = enseignant\n",
    "            if classe_eleve == classe_enseignant:\n",
    "                enseignant_trouve = f\"{prenom_enseignant} {nom_enseignant}\"\n",
    "                break\n",
    "\n",
    "        associations.append((f\"{prenom_eleve} {nom_eleve}\", enseignant_trouve))\n",
    "    return associations"
   ]
  },
  {
   "cell_type": "markdown",
   "metadata": {},
   "source": [
    "La fonction associate_students_with_teachers permet d'associer chaque élève à son enseignant en fonction de leur numéro de classe. Elle parcourt la liste des élèves et compare leur numéro de classe avec celui des enseignants pour trouver le bon prof. Ça sert à créer un lien entre chaque élève et son prof responsable."
   ]
  },
  {
   "cell_type": "code",
   "execution_count": 5,
   "metadata": {},
   "outputs": [],
   "source": [
    "# Fonction pour compter le nombre d'élèves par enseignant\n",
    "def count_students_per_teacher(eleves, enseignants):\n",
    "    enseignant_eleves_count = {f\"{prenom} {nom}\": 0 for prenom, nom, _ in enseignants}\n",
    "\n",
    "    for eleve in eleves:\n",
    "        classe_eleve = eleve[2]\n",
    "        for enseignant in enseignants:\n",
    "            if classe_eleve == enseignant[2]:\n",
    "                enseignant_nom_complet = f\"{enseignant[0]} {enseignant[1]}\"\n",
    "                enseignant_eleves_count[enseignant_nom_complet] += 1\n",
    "                break\n",
    "\n",
    "    return enseignant_eleves_count"
   ]
  },
  {
   "cell_type": "markdown",
   "metadata": {},
   "source": [
    "La fonction count_students_per_teacher compte combien d’élèves sont dans la classe de chaque enseignant. On commence par créer un dictionnaire où chaque enseignant a un compteur à 0, puis on vérifie à quelle classe appartient chaque élève et on augmente le nombre d'élèves du bon enseignant. Cela permet de savoir combien d'élèves sont sous la responsabilité de chaque enseignant."
   ]
  },
  {
   "cell_type": "code",
   "execution_count": 6,
   "metadata": {},
   "outputs": [],
   "source": [
    "# Fonction pour afficher les associations élèves-enseignants\n",
    "def display_associations(associations):\n",
    "    print(\"\\nAssociations élèves-enseignants :\")\n",
    "    for eleve, enseignant in associations:\n",
    "        if enseignant:\n",
    "            print(f\"{eleve} -> Enseignant responsable: {enseignant}\")\n",
    "        else:\n",
    "            print(f\"{eleve} -> Enseignant responsable: Non trouvé\")"
   ]
  },
  {
   "cell_type": "markdown",
   "metadata": {},
   "source": [
    "La fonction display_associations affiche la liste des élèves et de leurs enseignants. Elle parcourt la liste des associations créées et montre pour chaque élève le nom de son enseignant. Si un enseignant n'est pas trouvé, elle indique qu'aucun n'a été assigné. C'est utile pour visualiser qui est responsable de qui."
   ]
  },
  {
   "cell_type": "code",
   "execution_count": 7,
   "metadata": {},
   "outputs": [],
   "source": [
    "# Fonction pour afficher le nombre d'élèves par enseignant\n",
    "def display_student_counts(enseignant_eleves_count):\n",
    "    print(\"\\nNombre d'élèves par enseignant :\")\n",
    "    for enseignant, count in enseignant_eleves_count.items():\n",
    "        print(f\"{enseignant} a {count} élève(s).\")"
   ]
  },
  {
   "cell_type": "markdown",
   "metadata": {},
   "source": [
    "La fonction display_student_counts sert à afficher le nombre d'élèves que chaque enseignant a dans sa classe. Elle parcourt le dictionnaire où on a compté les élèves et montre combien chaque enseignant en a. Ça permet de voir rapidement combien d'élèves chaque prof a sous sa responsabilité."
   ]
  },
  {
   "cell_type": "code",
   "execution_count": 8,
   "metadata": {},
   "outputs": [],
   "source": [
    "# Main function\n",
    "def main():\n",
    "    with connection:\n",
    "        with connection.cursor() as cursor:\n",
    "            # Extraction des données\n",
    "            eleves, enseignants = fetch_data(cursor)\n",
    "\n",
    "            # Association des élèves aux enseignants\n",
    "            associations = associate_students_with_teachers(eleves, enseignants)\n",
    "\n",
    "            # Comptage des élèves par enseignant\n",
    "            enseignant_eleves_count = count_students_per_teacher(eleves, enseignants)\n",
    "\n",
    "            # Affichage des résultats\n",
    "            display_associations(associations)\n",
    "            display_student_counts(enseignant_eleves_count)"
   ]
  },
  {
   "cell_type": "markdown",
   "metadata": {},
   "source": [
    "La fonction principale gère tout le processus du programme. Elle commence par se connecter à la base de données, puis elle appelle les autres fonctions pour récupérer les données des élèves et des enseignants, associer les élèves à leurs enseignants et compter combien d’élèves chaque enseignant a. Ensuite, elle affiche les résultats. Enfin, elle ferme la connexion à la base de données. C'est comme un chef d'orchestre qui s'assure que chaque étape du programme est bien exécutée dans le bon ordre."
   ]
  },
  {
   "cell_type": "code",
   "execution_count": 9,
   "metadata": {},
   "outputs": [
    {
     "name": "stdout",
     "output_type": "stream",
     "text": [
      "\n",
      "Associations élèves-enseignants :\n",
      "Mark Watney -> Enseignant responsable: Salk John\n",
      "\n",
      "Nombre d'élèves par enseignant :\n",
      "Salk John a 1 élève(s).\n"
     ]
    }
   ],
   "source": [
    "# Exécution du script\n",
    "if __name__ == \"__main__\":\n",
    "    main()"
   ]
  },
  {
   "cell_type": "markdown",
   "metadata": {},
   "source": [
    "La dernière clause \"if\" vérifie si le programme est exécuté directement (et pas importé dans un autre fichier). Si c'est le cas, elle lance la fonction main(), qui déclenche tout le reste du programme. Cela permet de s'assurer que le programme démarre correctement et exécute toutes les étapes, comme se connecter à la base de données, récupérer les infos, faire les associations et afficher les résultats."
   ]
  }
 ],
 "metadata": {
  "kernelspec": {
   "display_name": "Python 3",
   "language": "python",
   "name": "python3"
  },
  "language_info": {
   "codemirror_mode": {
    "name": "ipython",
    "version": 3
   },
   "file_extension": ".py",
   "mimetype": "text/x-python",
   "name": "python",
   "nbconvert_exporter": "python",
   "pygments_lexer": "ipython3",
   "version": "3.12.4"
  }
 },
 "nbformat": 4,
 "nbformat_minor": 2
}
